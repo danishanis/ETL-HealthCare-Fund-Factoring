{
 "cells": [
  {
   "cell_type": "code",
   "execution_count": 19,
   "id": "3cb2962d",
   "metadata": {},
   "outputs": [],
   "source": [
    "import pandas as pd\n",
    "import numpy as np\n",
    "import sqlite3"
   ]
  },
  {
   "cell_type": "code",
   "execution_count": null,
   "id": "36e33723",
   "metadata": {},
   "outputs": [],
   "source": [
    "con = sqlite3.connect('../databases/database.sqlite')"
   ]
  },
  {
   "cell_type": "code",
   "execution_count": 20,
   "id": "52531767",
   "metadata": {},
   "outputs": [],
   "source": [
    "input_data_path = \"../data/input\""
   ]
  },
  {
   "cell_type": "code",
   "execution_count": 21,
   "id": "84515a8f",
   "metadata": {},
   "outputs": [],
   "source": [
    "facilities_df = pd.read_csv(f\"{input_data_path}/facilities.csv\")\n",
    "commissions_df = pd.read_csv(f\"{input_data_path}/policy_commissions.csv\")\n",
    "transactions_df = pd.read_csv(f\"{input_data_path}/bank_transactions.csv\")"
   ]
  },
  {
   "cell_type": "code",
   "execution_count": 22,
   "id": "98759348",
   "metadata": {},
   "outputs": [
    {
     "data": {
      "text/html": [
       "<div>\n",
       "<style scoped>\n",
       "    .dataframe tbody tr th:only-of-type {\n",
       "        vertical-align: middle;\n",
       "    }\n",
       "\n",
       "    .dataframe tbody tr th {\n",
       "        vertical-align: top;\n",
       "    }\n",
       "\n",
       "    .dataframe thead th {\n",
       "        text-align: right;\n",
       "    }\n",
       "</style>\n",
       "<table border=\"1\" class=\"dataframe\">\n",
       "  <thead>\n",
       "    <tr style=\"text-align: right;\">\n",
       "      <th></th>\n",
       "      <th>facility_id</th>\n",
       "      <th>counterparty_name</th>\n",
       "      <th>max_advance_rate</th>\n",
       "      <th>reserve_rate</th>\n",
       "      <th>concentration_limit_pct</th>\n",
       "      <th>delinquency_cutoff_days</th>\n",
       "      <th>current_outstanding</th>\n",
       "      <th>currency</th>\n",
       "    </tr>\n",
       "  </thead>\n",
       "  <tbody>\n",
       "    <tr>\n",
       "      <th>0</th>\n",
       "      <td>FAC-001</td>\n",
       "      <td>InsureCo Aggregator A</td>\n",
       "      <td>0.80</td>\n",
       "      <td>0.05</td>\n",
       "      <td>0.40</td>\n",
       "      <td>60</td>\n",
       "      <td>2100000.0</td>\n",
       "      <td>CAD</td>\n",
       "    </tr>\n",
       "    <tr>\n",
       "      <th>1</th>\n",
       "      <td>FAC-002</td>\n",
       "      <td>Broker Network B</td>\n",
       "      <td>0.75</td>\n",
       "      <td>0.03</td>\n",
       "      <td>0.35</td>\n",
       "      <td>45</td>\n",
       "      <td>1250000.0</td>\n",
       "      <td>CAD</td>\n",
       "    </tr>\n",
       "    <tr>\n",
       "      <th>2</th>\n",
       "      <td>FAC-003</td>\n",
       "      <td>MGA Group C</td>\n",
       "      <td>0.85</td>\n",
       "      <td>0.06</td>\n",
       "      <td>0.50</td>\n",
       "      <td>75</td>\n",
       "      <td>980000.0</td>\n",
       "      <td>CAD</td>\n",
       "    </tr>\n",
       "  </tbody>\n",
       "</table>\n",
       "</div>"
      ],
      "text/plain": [
       "  facility_id      counterparty_name  max_advance_rate  reserve_rate  \\\n",
       "0     FAC-001  InsureCo Aggregator A              0.80          0.05   \n",
       "1     FAC-002       Broker Network B              0.75          0.03   \n",
       "2     FAC-003            MGA Group C              0.85          0.06   \n",
       "\n",
       "   concentration_limit_pct  delinquency_cutoff_days  current_outstanding  \\\n",
       "0                     0.40                       60            2100000.0   \n",
       "1                     0.35                       45            1250000.0   \n",
       "2                     0.50                       75             980000.0   \n",
       "\n",
       "  currency  \n",
       "0      CAD  \n",
       "1      CAD  \n",
       "2      CAD  "
      ]
     },
     "execution_count": 22,
     "metadata": {},
     "output_type": "execute_result"
    }
   ],
   "source": [
    "facilities_df.head()"
   ]
  },
  {
   "cell_type": "code",
   "execution_count": null,
   "id": "fe1bdc83",
   "metadata": {},
   "outputs": [],
   "source": []
  }
 ],
 "metadata": {
  "kernelspec": {
   "display_name": "Python 3",
   "language": "python",
   "name": "python3"
  },
  "language_info": {
   "codemirror_mode": {
    "name": "ipython",
    "version": 3
   },
   "file_extension": ".py",
   "mimetype": "text/x-python",
   "name": "python",
   "nbconvert_exporter": "python",
   "pygments_lexer": "ipython3",
   "version": "3.10.18"
  }
 },
 "nbformat": 4,
 "nbformat_minor": 5
}
